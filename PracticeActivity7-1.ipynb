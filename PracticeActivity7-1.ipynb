{
 "cells": [
  {
   "cell_type": "code",
   "execution_count": 14,
   "metadata": {},
   "outputs": [],
   "source": [
    "import pandas as pd\n",
    "import numpy as np\n",
    "from sklearn.pipeline import Pipeline\n",
    "from sklearn.preprocessing import StandardScaler, OneHotEncoder, PolynomialFeatures\n",
    "from sklearn.linear_model import LinearRegression\n",
    "from sklearn.model_selection import train_test_split\n",
    "from sklearn.metrics import r2_score, mean_squared_error\n",
    "from sklearn.compose import ColumnTransformer"
   ]
  },
  {
   "cell_type": "markdown",
   "metadata": {},
   "source": [
    "PART 1\n",
    "\n",
    "Consider four possible models for predicting house prices:\n",
    "\n",
    "Using only the size and number of rooms.\n",
    "Using size, number of rooms, and building type.\n",
    "Using size and building type, and their interaction.\n",
    "Using a 5-degree polynomial on size, a 5-degree polynomial on number of rooms, and also building type.\n",
    "Set up a pipeline for each of these four models.\n",
    "\n",
    "Then, get predictions on the test set for each of your pipelines, and compute the root mean squared error. Which model performed best?\n",
    "\n",
    "Note: You should only use the function train_test_split() one time in your code; that is, we should be predicting on the same test set for all three models."
   ]
  },
  {
   "cell_type": "code",
   "execution_count": 5,
   "metadata": {},
   "outputs": [
    {
     "name": "stdout",
     "output_type": "stream",
     "text": [
      "<class 'pandas.core.frame.DataFrame'>\n",
      "RangeIndex: 2930 entries, 0 to 2929\n",
      "Data columns (total 82 columns):\n",
      " #   Column           Non-Null Count  Dtype  \n",
      "---  ------           --------------  -----  \n",
      " 0   Order            2930 non-null   int64  \n",
      " 1   PID              2930 non-null   int64  \n",
      " 2   MS SubClass      2930 non-null   int64  \n",
      " 3   MS Zoning        2930 non-null   object \n",
      " 4   Lot Frontage     2440 non-null   float64\n",
      " 5   Lot Area         2930 non-null   int64  \n",
      " 6   Street           2930 non-null   object \n",
      " 7   Alley            198 non-null    object \n",
      " 8   Lot Shape        2930 non-null   object \n",
      " 9   Land Contour     2930 non-null   object \n",
      " 10  Utilities        2930 non-null   object \n",
      " 11  Lot Config       2930 non-null   object \n",
      " 12  Land Slope       2930 non-null   object \n",
      " 13  Neighborhood     2930 non-null   object \n",
      " 14  Condition 1      2930 non-null   object \n",
      " 15  Condition 2      2930 non-null   object \n",
      " 16  Bldg Type        2930 non-null   object \n",
      " 17  House Style      2930 non-null   object \n",
      " 18  Overall Qual     2930 non-null   int64  \n",
      " 19  Overall Cond     2930 non-null   int64  \n",
      " 20  Year Built       2930 non-null   int64  \n",
      " 21  Year Remod/Add   2930 non-null   int64  \n",
      " 22  Roof Style       2930 non-null   object \n",
      " 23  Roof Matl        2930 non-null   object \n",
      " 24  Exterior 1st     2930 non-null   object \n",
      " 25  Exterior 2nd     2930 non-null   object \n",
      " 26  Mas Vnr Type     1155 non-null   object \n",
      " 27  Mas Vnr Area     2907 non-null   float64\n",
      " 28  Exter Qual       2930 non-null   object \n",
      " 29  Exter Cond       2930 non-null   object \n",
      " 30  Foundation       2930 non-null   object \n",
      " 31  Bsmt Qual        2850 non-null   object \n",
      " 32  Bsmt Cond        2850 non-null   object \n",
      " 33  Bsmt Exposure    2847 non-null   object \n",
      " 34  BsmtFin Type 1   2850 non-null   object \n",
      " 35  BsmtFin SF 1     2929 non-null   float64\n",
      " 36  BsmtFin Type 2   2849 non-null   object \n",
      " 37  BsmtFin SF 2     2929 non-null   float64\n",
      " 38  Bsmt Unf SF      2929 non-null   float64\n",
      " 39  Total Bsmt SF    2929 non-null   float64\n",
      " 40  Heating          2930 non-null   object \n",
      " 41  Heating QC       2930 non-null   object \n",
      " 42  Central Air      2930 non-null   object \n",
      " 43  Electrical       2929 non-null   object \n",
      " 44  1st Flr SF       2930 non-null   int64  \n",
      " 45  2nd Flr SF       2930 non-null   int64  \n",
      " 46  Low Qual Fin SF  2930 non-null   int64  \n",
      " 47  Gr Liv Area      2930 non-null   int64  \n",
      " 48  Bsmt Full Bath   2928 non-null   float64\n",
      " 49  Bsmt Half Bath   2928 non-null   float64\n",
      " 50  Full Bath        2930 non-null   int64  \n",
      " 51  Half Bath        2930 non-null   int64  \n",
      " 52  Bedroom AbvGr    2930 non-null   int64  \n",
      " 53  Kitchen AbvGr    2930 non-null   int64  \n",
      " 54  Kitchen Qual     2930 non-null   object \n",
      " 55  TotRms AbvGrd    2930 non-null   int64  \n",
      " 56  Functional       2930 non-null   object \n",
      " 57  Fireplaces       2930 non-null   int64  \n",
      " 58  Fireplace Qu     1508 non-null   object \n",
      " 59  Garage Type      2773 non-null   object \n",
      " 60  Garage Yr Blt    2771 non-null   float64\n",
      " 61  Garage Finish    2771 non-null   object \n",
      " 62  Garage Cars      2929 non-null   float64\n",
      " 63  Garage Area      2929 non-null   float64\n",
      " 64  Garage Qual      2771 non-null   object \n",
      " 65  Garage Cond      2771 non-null   object \n",
      " 66  Paved Drive      2930 non-null   object \n",
      " 67  Wood Deck SF     2930 non-null   int64  \n",
      " 68  Open Porch SF    2930 non-null   int64  \n",
      " 69  Enclosed Porch   2930 non-null   int64  \n",
      " 70  3Ssn Porch       2930 non-null   int64  \n",
      " 71  Screen Porch     2930 non-null   int64  \n",
      " 72  Pool Area        2930 non-null   int64  \n",
      " 73  Pool QC          13 non-null     object \n",
      " 74  Fence            572 non-null    object \n",
      " 75  Misc Feature     106 non-null    object \n",
      " 76  Misc Val         2930 non-null   int64  \n",
      " 77  Mo Sold          2930 non-null   int64  \n",
      " 78  Yr Sold          2930 non-null   int64  \n",
      " 79  Sale Type        2930 non-null   object \n",
      " 80  Sale Condition   2930 non-null   object \n",
      " 81  SalePrice        2930 non-null   int64  \n",
      "dtypes: float64(11), int64(28), object(43)\n",
      "memory usage: 1.8+ MB\n"
     ]
    }
   ],
   "source": [
    "ames = pd.read_csv(\"C:/Users/Luke Maier/Downloads/AmesHousing.csv\")\n",
    "\n",
    "ames.info()"
   ]
  },
  {
   "cell_type": "code",
   "execution_count": 32,
   "metadata": {},
   "outputs": [],
   "source": [
    "X = ames[[\"Gr Liv Area\", \"TotRms AbvGrd\",\"Bldg Type\"]]\n",
    "y = ames[\"SalePrice\"]\n",
    "\n",
    "X_train, X_test, y_train, y_test = train_test_split(X, y)\n",
    "\n",
    "numerical = ['Gr Liv Area','TotRms AbvGrd']\n",
    "categorical = ['Bldg Type']\n",
    "\n"
   ]
  },
  {
   "cell_type": "code",
   "execution_count": 33,
   "metadata": {},
   "outputs": [],
   "source": [
    "#MODEL 1\n",
    "\n",
    "lr = LinearRegression()\n",
    "\n",
    "ct = ColumnTransformer(\n",
    "  [\n",
    "    (\"standardize\", \n",
    "    StandardScaler(), [\"Gr Liv Area\", \"TotRms AbvGrd\"])\n",
    "  ],\n",
    "  remainder = \"drop\"\n",
    ")\n",
    "\n",
    "\n",
    "lr_pipeline1 = Pipeline(\n",
    "  [\n",
    "  (\"preprocessing\", ct),\n",
    "  (\"linear_regression\", lr)]\n",
    ")\n",
    "\n",
    "lr_fitted1 = lr_pipeline1.fit(X_train, y_train)\n",
    "\n",
    "y_pred_test1 = lr_pipeline1.predict(X_test)\n",
    "\n",
    "mse1 = mean_squared_error(y_test, y_pred_test1)\n",
    "rmse1 = np.sqrt(mse1)\n",
    "rsquared_test1 = r2_score(y_test, y_pred_test1)"
   ]
  },
  {
   "cell_type": "code",
   "execution_count": 34,
   "metadata": {},
   "outputs": [
    {
     "name": "stdout",
     "output_type": "stream",
     "text": [
      "Test RMSE: 52374.58\n",
      "Test R^2:  0.57\n"
     ]
    }
   ],
   "source": [
    "print(\"RMSE:\", rmse1.__round__(2))"
   ]
  },
  {
   "cell_type": "code",
   "execution_count": 35,
   "metadata": {},
   "outputs": [],
   "source": [
    "#MODEL 2\n",
    "\n",
    "ct = ColumnTransformer(\n",
    "  [\n",
    "    (\"dummify\", OneHotEncoder(sparse_output = False, drop = \"first\"), [\"Bldg Type\"]),\n",
    "    (\"standardize\", \n",
    "    StandardScaler(), [\"Gr Liv Area\", \"TotRms AbvGrd\"])\n",
    "  ],\n",
    "  remainder = \"drop\"\n",
    ")\n",
    "\n",
    "\n",
    "lr_pipeline2 = Pipeline(\n",
    "  [\n",
    "  (\"preprocessing\", ct),\n",
    "  (\"linear_regression\", lr)]\n",
    ")\n",
    "\n",
    "lr_fitted2 = lr_pipeline2.fit(X_train, y_train)\n",
    "\n",
    "y_pred_test2 = lr_pipeline2.predict(X_test)\n",
    "\n",
    "mse_test2 = mean_squared_error(y_test, y_pred_test2)\n",
    "rmse2 = np.sqrt(mse_test2)\n",
    "rsquared_test2 = r2_score(y_test, y_pred_test2)"
   ]
  },
  {
   "cell_type": "code",
   "execution_count": 38,
   "metadata": {},
   "outputs": [
    {
     "name": "stdout",
     "output_type": "stream",
     "text": [
      "RMSE: 50970.32\n"
     ]
    }
   ],
   "source": [
    "print(\"RMSE:\", rmse2.__round__(2))"
   ]
  },
  {
   "cell_type": "code",
   "execution_count": 41,
   "metadata": {},
   "outputs": [],
   "source": [
    "#MODEL 3\n",
    "\n",
    "ct = ColumnTransformer(\n",
    "  [\n",
    "    (\"dummify\", OneHotEncoder(sparse_output = False, drop = \"first\"), [\"Bldg Type\"]),\n",
    "    (\"standardize\", StandardScaler(), [\"Gr Liv Area\"])\n",
    "  ],\n",
    "  remainder = \"drop\"\n",
    ")\n",
    "\n",
    "lr_pipeline3 = Pipeline(\n",
    "  [\n",
    "  (\"preprocessing\", ct),\n",
    "  (\"interaction\", PolynomialFeatures(degree = 2, interaction_only = True, include_bias=False)),\n",
    "  (\"linear_regression\", lr)]\n",
    ")\n",
    "\n",
    "lr_fitted3 = lr_pipeline3.fit(X_train, y_train)\n",
    "\n",
    "y_pred_test3 = lr_pipeline3.predict(X_test)\n",
    "\n",
    "mse_test3 = mean_squared_error(y_test, y_pred_test3)\n",
    "rmse3 = np.sqrt(mse_test3)\n",
    "rsquared_test3 = r2_score(y_test, y_pred_test3)"
   ]
  },
  {
   "cell_type": "code",
   "execution_count": 42,
   "metadata": {},
   "outputs": [
    {
     "name": "stdout",
     "output_type": "stream",
     "text": [
      "RMSE: 50489.2\n"
     ]
    }
   ],
   "source": [
    "print(\"RMSE:\", rmse3.__round__(2))"
   ]
  },
  {
   "cell_type": "code",
   "execution_count": 44,
   "metadata": {},
   "outputs": [],
   "source": [
    "#MODEL 4: 5 degree polynomial on size and num rooms\n",
    "\n",
    "ct = ColumnTransformer(\n",
    "  [\n",
    "    (\"dummify\", OneHotEncoder(sparse_output = False, drop = \"first\"), [\"Bldg Type\"]),\n",
    "    (\"standardize\", StandardScaler(), [\"Gr Liv Area\", \"TotRms AbvGrd\"]),\n",
    "    \n",
    "  ],\n",
    "  remainder = \"drop\"\n",
    ")\n",
    "\n",
    "lr_pipeline4 = Pipeline(\n",
    "  [\n",
    "  (\"preprocessing\", ct),\n",
    "  (\"polynomial\", PolynomialFeatures(degree=5, include_bias=False)),\n",
    "  (\"linear_regression\", lr)]\n",
    ")\n",
    "\n",
    "lr_fitted4 = lr_pipeline4.fit(X_train, y_train)\n",
    "\n",
    "y_pred_test4 = lr_pipeline4.predict(X_test)\n",
    "\n",
    "mse_test4 = mean_squared_error(y_test, y_pred_test4)\n",
    "rmse4 = np.sqrt(mse_test4)\n",
    "rsquared_test4 = r2_score(y_test, y_pred_test4)"
   ]
  },
  {
   "cell_type": "code",
   "execution_count": 45,
   "metadata": {},
   "outputs": [
    {
     "name": "stdout",
     "output_type": "stream",
     "text": [
      "RMSE: 50961.37\n"
     ]
    }
   ],
   "source": [
    "print(\"RMSE:\", rmse4.__round__(2))"
   ]
  },
  {
   "cell_type": "markdown",
   "metadata": {},
   "source": [
    "Based on the RMSE values I would chose model 3 which uses size and building type and the interaction between the two. It has the lowest RMSE meaning it has the highest predictive accuracy."
   ]
  },
  {
   "cell_type": "markdown",
   "metadata": {},
   "source": [
    "PART 2\n",
    "\n",
    "Once again consider four modeling options for house price:\n",
    "\n",
    "Using only the size and number of rooms.\n",
    "Using size, number of rooms, and building type.\n",
    "Using size and building type, and their interaction.\n",
    "Using a 5-degree polynomial on size, a 5-degree polynomial on number of rooms, and also building type.\n",
    "Use cross_val_score with the pipelines you made earlier to find the cross-validated root mean squared error for each model.\n",
    "\n",
    "Which do you prefer? Does this agree with your conclusion from earlier?"
   ]
  },
  {
   "cell_type": "code",
   "execution_count": 46,
   "metadata": {},
   "outputs": [],
   "source": [
    "from sklearn.model_selection import train_test_split, GridSearchCV, cross_val_score\n",
    "\n",
    "\n",
    "score1 = cross_val_score(lr_pipeline1, X_train, y_train, cv=5, scoring='neg_mean_squared_error')\n",
    "score1 = np.sqrt(-score1)\n",
    "cv1 = score1.mean()\n",
    "\n",
    "score2 = cross_val_score(lr_pipeline2, X_train, y_train, cv=5, scoring='neg_mean_squared_error')\n",
    "score2 = np.sqrt(-score2)\n",
    "cv2 = score2.mean()\n",
    "\n",
    "score3 = cross_val_score(lr_pipeline3, X_train, y_train, cv=5, scoring='neg_mean_squared_error')\n",
    "score3 = np.sqrt(-score3)\n",
    "cv3 = score3.mean()\n",
    "\n",
    "score4 = cross_val_score(lr_pipeline4, X_train, y_train, cv=5, scoring='neg_mean_squared_error')\n",
    "score4 = np.sqrt(-score4)\n",
    "cv4 = score4.mean()"
   ]
  },
  {
   "cell_type": "code",
   "execution_count": 48,
   "metadata": {},
   "outputs": [
    {
     "name": "stdout",
     "output_type": "stream",
     "text": [
      "56907.106690592365\n",
      "55027.478422316795\n",
      "54175.629742031706\n",
      "145588.99809220855\n"
     ]
    }
   ],
   "source": [
    "print(cv1)\n",
    "print(cv2)\n",
    "print(cv3)\n",
    "print(cv4)"
   ]
  },
  {
   "cell_type": "markdown",
   "metadata": {},
   "source": [
    "Based on these RMSE values I would choose model 3 as my model. This is the same conclusion I reached earlier."
   ]
  },
  {
   "cell_type": "markdown",
   "metadata": {},
   "source": [
    "PART 3\n",
    "\n",
    "Consider one hundred modeling options for house price:\n",
    "\n",
    "House size, trying degrees 1 through 10\n",
    "Number of rooms, trying degrees 1 through 10\n",
    "Building Type\n",
    "Hint: The dictionary of possible values that you make to give to GridSearchCV will have two elements instead of one.\n",
    "\n",
    "Q1: Which model performed the best?\n",
    "\n",
    "Q2: What downsides do you see of trying all possible model options? How might you go about choosing a smaller number of tuning values to try?"
   ]
  },
  {
   "cell_type": "code",
   "execution_count": 54,
   "metadata": {},
   "outputs": [
    {
     "data": {
      "text/plain": [
       "polynomial_size        3.000000\n",
       "polynomial_room        1.000000\n",
       "mean_test_score    52896.321648\n",
       "Name: 2, dtype: float64"
      ]
     },
     "execution_count": 54,
     "metadata": {},
     "output_type": "execute_result"
    }
   ],
   "source": [
    "\n",
    "\n",
    "ct_polynomial = ColumnTransformer(\n",
    "  [\n",
    "    (\"dummify\", OneHotEncoder(sparse_output = False), [\"Bldg Type\"]),\n",
    "    (\"polynomial_size\", PolynomialFeatures(), [\"Gr Liv Area\"]),\n",
    "    (\"polynomial_room\", PolynomialFeatures(), [\"TotRms AbvGrd\"])\n",
    "  ],\n",
    "  remainder = \"drop\"\n",
    ")\n",
    "\n",
    "polynomial_lr_pipeline = Pipeline(\n",
    "  [(\"preprocessing\", ct_polynomial),\n",
    "  (\"linear_regression\", LinearRegression())]\n",
    ").set_output(transform=\"pandas\")\n",
    "\n",
    "degrees = {'preprocessing__polynomial_size__degree': np.arange(1, 11),\n",
    "           'preprocessing__polynomial_room__degree': np.arange(1, 11)}\n",
    "\n",
    "gscv = GridSearchCV(polynomial_lr_pipeline, degrees, cv = 5, scoring='neg_mean_squared_error')\n",
    "\n",
    "gscv_fitted = gscv.fit(X, y)\n",
    "\n",
    "neg_mse_scores = gscv_fitted.cv_results_['mean_test_score']\n",
    "rmse_scores = np.sqrt(-neg_mse_scores)\n",
    "\n",
    "results_df = pd.DataFrame(data = {\n",
    "    \"polynomial_size\": np.tile(np.arange(1, 11), 10),\n",
    "    \"polynomial_room\": np.repeat(np.arange(1, 11), 10),\n",
    "    \"mean_test_score\": rmse_scores\n",
    "})\n",
    "\n",
    "best = results_df.loc[results_df['mean_test_score'].idxmin()]\n",
    "best\n"
   ]
  },
  {
   "cell_type": "code",
   "execution_count": 53,
   "metadata": {},
   "outputs": [
    {
     "data": {
      "text/plain": [
       "polynomial_size    3.000000\n",
       "polynomial_room    1.000000\n",
       "mean_test_score    0.557641\n",
       "Name: 2, dtype: float64"
      ]
     },
     "execution_count": 53,
     "metadata": {},
     "output_type": "execute_result"
    }
   ],
   "source": [
    "gscv = GridSearchCV(polynomial_lr_pipeline, degrees, cv = 5, scoring='r2')\n",
    "\n",
    "gscv_fitted = gscv.fit(X, y)\n",
    "\n",
    "\n",
    "results_df = pd.DataFrame(data = {\n",
    "    \"polynomial_size\": np.tile(np.arange(1, 11), 10),\n",
    "    \"polynomial_room\": np.repeat(np.arange(1, 11), 10),\n",
    "    \"mean_test_score\": gscv_fitted.cv_results_['mean_test_score']\n",
    "})\n",
    "\n",
    "best = results_df.loc[results_df['mean_test_score'].idxmax()]\n",
    "best"
   ]
  },
  {
   "cell_type": "markdown",
   "metadata": {},
   "source": [
    "1. The model with a polynomial with a degree of 3.\n",
    "2. The downside is that it takes a lot of time and is computationally heavy."
   ]
  }
 ],
 "metadata": {
  "kernelspec": {
   "display_name": "base",
   "language": "python",
   "name": "python3"
  },
  "language_info": {
   "codemirror_mode": {
    "name": "ipython",
    "version": 3
   },
   "file_extension": ".py",
   "mimetype": "text/x-python",
   "name": "python",
   "nbconvert_exporter": "python",
   "pygments_lexer": "ipython3",
   "version": "3.9.13"
  }
 },
 "nbformat": 4,
 "nbformat_minor": 2
}
